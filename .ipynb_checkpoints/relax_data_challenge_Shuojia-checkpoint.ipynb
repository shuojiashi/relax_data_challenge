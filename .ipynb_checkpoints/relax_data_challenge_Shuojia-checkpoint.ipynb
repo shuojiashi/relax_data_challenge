{
 "cells": [
  {
   "cell_type": "code",
   "execution_count": 1,
   "metadata": {
    "collapsed": true
   },
   "outputs": [],
   "source": [
    "# import important stuff\n",
    "import numpy as np\n",
    "import pandas as pd\n",
    "import datetime\n",
    "from collections import Counter"
   ]
  },
  {
   "cell_type": "code",
   "execution_count": 2,
   "metadata": {
    "collapsed": true
   },
   "outputs": [],
   "source": [
    "# import visulization modules\n",
    "import matplotlib.pyplot as plt\n",
    "import seaborn as sns\n",
    "sns.set_style('whitegrid')\n",
    "sns.set_context(\"talk\")\n",
    "%matplotlib inline"
   ]
  },
  {
   "cell_type": "code",
   "execution_count": 3,
   "metadata": {
    "collapsed": true
   },
   "outputs": [],
   "source": [
    "# import stats modules\n",
    "from scipy import stats\n",
    "from scipy.stats import ttest_ind, chi2_contingency\n"
   ]
  },
  {
   "cell_type": "code",
   "execution_count": 4,
   "metadata": {
    "collapsed": true
   },
   "outputs": [],
   "source": [
    "# import sklearn modules\n",
    "from sklearn.metrics import mean_squared_error\n",
    "from sklearn.model_selection import train_test_split\n",
    "from sklearn.model_selection import cross_val_score\n",
    "from sklearn.model_selection import GridSearchCV\n",
    "from sklearn.ensemble import RandomForestClassifier\n",
    "from sklearn.metrics import classification_report\n",
    "from sklearn.metrics import confusion_matrix\n",
    "from sklearn.metrics import roc_curve\n",
    "from imblearn.under_sampling import RandomUnderSampler\n",
    "from sklearn.linear_model import LogisticRegression"
   ]
  },
  {
   "cell_type": "markdown",
   "metadata": {},
   "source": [
    "####  Problem: Defining an \"adopted user\" as a user who has logged into the product on three separate days in at least one sevenday period , identify which factors predict future user adoption. "
   ]
  },
  {
   "cell_type": "code",
   "execution_count": 5,
   "metadata": {},
   "outputs": [
    {
     "data": {
      "text/html": [
       "<div>\n",
       "<style>\n",
       "    .dataframe thead tr:only-child th {\n",
       "        text-align: right;\n",
       "    }\n",
       "\n",
       "    .dataframe thead th {\n",
       "        text-align: left;\n",
       "    }\n",
       "\n",
       "    .dataframe tbody tr th {\n",
       "        vertical-align: top;\n",
       "    }\n",
       "</style>\n",
       "<table border=\"1\" class=\"dataframe\">\n",
       "  <thead>\n",
       "    <tr style=\"text-align: right;\">\n",
       "      <th></th>\n",
       "      <th>object_id</th>\n",
       "      <th>creation_time</th>\n",
       "      <th>name</th>\n",
       "      <th>email</th>\n",
       "      <th>creation_source</th>\n",
       "      <th>last_session_creation_time</th>\n",
       "      <th>opted_in_to_mailing_list</th>\n",
       "      <th>enabled_for_marketing_drip</th>\n",
       "      <th>org_id</th>\n",
       "      <th>invited_by_user_id</th>\n",
       "    </tr>\n",
       "  </thead>\n",
       "  <tbody>\n",
       "    <tr>\n",
       "      <th>0</th>\n",
       "      <td>1</td>\n",
       "      <td>2014-04-22 03:53:30</td>\n",
       "      <td>Clausen August</td>\n",
       "      <td>AugustCClausen@yahoo.com</td>\n",
       "      <td>GUEST_INVITE</td>\n",
       "      <td>1.398139e+09</td>\n",
       "      <td>1</td>\n",
       "      <td>0</td>\n",
       "      <td>11</td>\n",
       "      <td>10803.0</td>\n",
       "    </tr>\n",
       "    <tr>\n",
       "      <th>1</th>\n",
       "      <td>2</td>\n",
       "      <td>2013-11-15 03:45:04</td>\n",
       "      <td>Poole Matthew</td>\n",
       "      <td>MatthewPoole@gustr.com</td>\n",
       "      <td>ORG_INVITE</td>\n",
       "      <td>1.396238e+09</td>\n",
       "      <td>0</td>\n",
       "      <td>0</td>\n",
       "      <td>1</td>\n",
       "      <td>316.0</td>\n",
       "    </tr>\n",
       "    <tr>\n",
       "      <th>2</th>\n",
       "      <td>3</td>\n",
       "      <td>2013-03-19 23:14:52</td>\n",
       "      <td>Bottrill Mitchell</td>\n",
       "      <td>MitchellBottrill@gustr.com</td>\n",
       "      <td>ORG_INVITE</td>\n",
       "      <td>1.363735e+09</td>\n",
       "      <td>0</td>\n",
       "      <td>0</td>\n",
       "      <td>94</td>\n",
       "      <td>1525.0</td>\n",
       "    </tr>\n",
       "    <tr>\n",
       "      <th>3</th>\n",
       "      <td>4</td>\n",
       "      <td>2013-05-21 08:09:28</td>\n",
       "      <td>Clausen Nicklas</td>\n",
       "      <td>NicklasSClausen@yahoo.com</td>\n",
       "      <td>GUEST_INVITE</td>\n",
       "      <td>1.369210e+09</td>\n",
       "      <td>0</td>\n",
       "      <td>0</td>\n",
       "      <td>1</td>\n",
       "      <td>5151.0</td>\n",
       "    </tr>\n",
       "    <tr>\n",
       "      <th>4</th>\n",
       "      <td>5</td>\n",
       "      <td>2013-01-17 10:14:20</td>\n",
       "      <td>Raw Grace</td>\n",
       "      <td>GraceRaw@yahoo.com</td>\n",
       "      <td>GUEST_INVITE</td>\n",
       "      <td>1.358850e+09</td>\n",
       "      <td>0</td>\n",
       "      <td>0</td>\n",
       "      <td>193</td>\n",
       "      <td>5240.0</td>\n",
       "    </tr>\n",
       "  </tbody>\n",
       "</table>\n",
       "</div>"
      ],
      "text/plain": [
       "   object_id       creation_time               name  \\\n",
       "0          1 2014-04-22 03:53:30     Clausen August   \n",
       "1          2 2013-11-15 03:45:04      Poole Matthew   \n",
       "2          3 2013-03-19 23:14:52  Bottrill Mitchell   \n",
       "3          4 2013-05-21 08:09:28    Clausen Nicklas   \n",
       "4          5 2013-01-17 10:14:20          Raw Grace   \n",
       "\n",
       "                        email creation_source  last_session_creation_time  \\\n",
       "0    AugustCClausen@yahoo.com    GUEST_INVITE                1.398139e+09   \n",
       "1      MatthewPoole@gustr.com      ORG_INVITE                1.396238e+09   \n",
       "2  MitchellBottrill@gustr.com      ORG_INVITE                1.363735e+09   \n",
       "3   NicklasSClausen@yahoo.com    GUEST_INVITE                1.369210e+09   \n",
       "4          GraceRaw@yahoo.com    GUEST_INVITE                1.358850e+09   \n",
       "\n",
       "   opted_in_to_mailing_list  enabled_for_marketing_drip  org_id  \\\n",
       "0                         1                           0      11   \n",
       "1                         0                           0       1   \n",
       "2                         0                           0      94   \n",
       "3                         0                           0       1   \n",
       "4                         0                           0     193   \n",
       "\n",
       "   invited_by_user_id  \n",
       "0             10803.0  \n",
       "1               316.0  \n",
       "2              1525.0  \n",
       "3              5151.0  \n",
       "4              5240.0  "
      ]
     },
     "execution_count": 5,
     "metadata": {},
     "output_type": "execute_result"
    }
   ],
   "source": [
    "# import take home users data \n",
    "df_users = pd.read_csv('takehome_users.csv', parse_dates=['creation_time'], encoding = \"ISO-8859-1\")\n",
    "df_users.head()\n"
   ]
  },
  {
   "cell_type": "code",
   "execution_count": 6,
   "metadata": {},
   "outputs": [
    {
     "data": {
      "text/plain": [
       "ORG_INVITE            4254\n",
       "GUEST_INVITE          2163\n",
       "PERSONAL_PROJECTS     2111\n",
       "SIGNUP                2087\n",
       "SIGNUP_GOOGLE_AUTH    1385\n",
       "Name: creation_source, dtype: int64"
      ]
     },
     "execution_count": 6,
     "metadata": {},
     "output_type": "execute_result"
    }
   ],
   "source": [
    "df_users['creation_source'].value_counts()"
   ]
  },
  {
   "cell_type": "code",
   "execution_count": 7,
   "metadata": {},
   "outputs": [
    {
     "name": "stdout",
     "output_type": "stream",
     "text": [
      "<class 'pandas.core.frame.DataFrame'>\n",
      "RangeIndex: 207917 entries, 0 to 207916\n",
      "Data columns (total 3 columns):\n",
      "time_stamp    207917 non-null datetime64[ns]\n",
      "user_id       207917 non-null int64\n",
      "visited       207917 non-null int64\n",
      "dtypes: datetime64[ns](1), int64(2)\n",
      "memory usage: 4.8 MB\n"
     ]
    }
   ],
   "source": [
    "# import user engagement data \n",
    "df_user_engagement = pd.read_csv('takehome_user_engagement.csv', parse_dates=['time_stamp'], encoding = \"ISO-8859-1\")\n",
    "df_user_engagement.info()"
   ]
  },
  {
   "cell_type": "code",
   "execution_count": 8,
   "metadata": {},
   "outputs": [
    {
     "name": "stdout",
     "output_type": "stream",
     "text": [
      "The percentage of users actually engaged with the application is:  0.73525\n"
     ]
    }
   ],
   "source": [
    "# how many users signed up?\n",
    "n_users = df_users['object_id'].nunique()\n",
    "\n",
    "# how many users have done any engagement?\n",
    "n_users_engaged = df_user_engagement['user_id'].nunique()\n",
    "\n",
    "# percentage of active users among signed up\n",
    "print('The percentage of users actually engaged with the application is: ', n_users_engaged/n_users)"
   ]
  },
  {
   "cell_type": "code",
   "execution_count": 9,
   "metadata": {},
   "outputs": [
    {
     "data": {
      "text/plain": [
       "1    207917\n",
       "Name: visited, dtype: int64"
      ]
     },
     "execution_count": 9,
     "metadata": {},
     "output_type": "execute_result"
    }
   ],
   "source": [
    "# what is visited?\n",
    "df_user_engagement['visited'].value_counts()"
   ]
  },
  {
   "cell_type": "markdown",
   "metadata": {},
   "source": [
    "The feature \"visited' in the user engagement data has only one value. It does not contain much information thus could be dropped. Now we try to complete first part of the problem: defining an \"adopted user\" as a user who has logged into the product on three separate days in at least one sevenday period."
   ]
  },
  {
   "cell_type": "code",
   "execution_count": 10,
   "metadata": {
    "collapsed": true
   },
   "outputs": [],
   "source": [
    "# drop the visited column\n",
    "df_user_engagement.drop(['visited'], axis=1, inplace=True)"
   ]
  },
  {
   "cell_type": "code",
   "execution_count": 11,
   "metadata": {},
   "outputs": [],
   "source": [
    "# mark the users whether they are \"adopted\" or not\n",
    "user_ls = sorted(list(df_user_engagement['user_id'].unique()))\n",
    "seven_days = datetime.timedelta(7)\n",
    "user_adopt = []\n",
    "\n",
    "for i in user_ls:\n",
    "\n",
    "    stamp = 0\n",
    "    i_user = df_user_engagement[df_user_engagement['user_id']==i].sort_values('time_stamp')\n",
    "    \n",
    "    for row in i_user.itertuples():\n",
    "        if stamp == 1:\n",
    "            continue\n",
    "        login_time = i_user.get_value(row[0], 'time_stamp')\n",
    "        if len(i_user[(i_user['time_stamp'] > login_time) & (i_user['time_stamp'] < (login_time + seven_days))]) >= 3:\n",
    "            stamp = 1\n",
    "    \n",
    "    user_adopt.append(stamp)"
   ]
  },
  {
   "cell_type": "code",
   "execution_count": 12,
   "metadata": {},
   "outputs": [
    {
     "name": "stdout",
     "output_type": "stream",
     "text": [
      "The percentage of adopted user among active user is 0.147002153463\n",
      "The percentage of adopted user among signed up user is 0.108083333333\n"
     ]
    }
   ],
   "source": [
    "# find the percentage of active users that are adopted users\n",
    "df_user_adopt = pd.DataFrame(user_ls, user_adopt).reset_index()\n",
    "df_user_adopt.columns = ['Adopt', 'user_id']\n",
    "adopt_percent = df_user_adopt.Adopt.value_counts(normalize=True)[1]\n",
    "adopt_percent_total = df_user_adopt.Adopt.value_counts()[1]/n_users\n",
    "\n",
    "print(\"The percentage of adopted user among active user is\", adopt_percent)\n",
    "print(\"The percentage of adopted user among signed up user is\", adopt_percent_total)"
   ]
  },
  {
   "cell_type": "markdown",
   "metadata": {},
   "source": [
    "Now it is clear that which users are considered 'adopted users'. Next we use this information to create the target feature in the takehome_users.csv dataset:"
   ]
  },
  {
   "cell_type": "code",
   "execution_count": 13,
   "metadata": {},
   "outputs": [],
   "source": [
    "# merge two data frames \n",
    "df_merge = df_users.merge(df_user_adopt, how='left', left_on='object_id', right_on='user_id' )\n",
    "df_merge.fillna(value=0, inplace=True)"
   ]
  },
  {
   "cell_type": "code",
   "execution_count": 14,
   "metadata": {},
   "outputs": [],
   "source": [
    "# drop some arbiturary features that are irrelevant with the user itself\n",
    "df_classify = df_merge.drop(['object_id', 'name', 'user_id', 'creation_time', 'last_session_creation_time'], axis=1)\n"
   ]
  },
  {
   "cell_type": "markdown",
   "metadata": {},
   "source": [
    "Now create a feature that only indicates whether the sign-up email is popular email host site (such as 'gmail') or some random or personal host. "
   ]
  },
  {
   "cell_type": "code",
   "execution_count": 15,
   "metadata": {},
   "outputs": [],
   "source": [
    "df_classify['email_source'] = df_classify['email'].apply(lambda x: x.split('@')[1])\n",
    "email_list = df_classify['email_source'].value_counts().head(6).index.tolist()\n",
    "email_type_ls = []\n",
    "\n",
    "for email in df_classify['email_source']:\n",
    "    if email in email_list:\n",
    "        email_type_ls.append(1)\n",
    "    else:\n",
    "        email_type_ls.append(0)\n",
    "        \n",
    "df_classify['email_type'] = email_type_ls\n",
    "df_classify.drop(['email', 'email_source'],axis=1, inplace=True)"
   ]
  },
  {
   "cell_type": "code",
   "execution_count": 16,
   "metadata": {
    "scrolled": true
   },
   "outputs": [
    {
     "name": "stdout",
     "output_type": "stream",
     "text": [
      "<class 'pandas.core.frame.DataFrame'>\n",
      "Int64Index: 12000 entries, 0 to 11999\n",
      "Data columns (total 7 columns):\n",
      "creation_source               12000 non-null object\n",
      "opted_in_to_mailing_list      12000 non-null int64\n",
      "enabled_for_marketing_drip    12000 non-null int64\n",
      "org_id                        12000 non-null int64\n",
      "invited_by_user_id            12000 non-null float64\n",
      "Adopt                         12000 non-null float64\n",
      "email_type                    12000 non-null int64\n",
      "dtypes: float64(2), int64(4), object(1)\n",
      "memory usage: 750.0+ KB\n"
     ]
    }
   ],
   "source": [
    "df_classify.info()"
   ]
  },
  {
   "cell_type": "code",
   "execution_count": 17,
   "metadata": {},
   "outputs": [],
   "source": [
    "# catagorical features get dummies\n",
    "catagoric = ['creation_source', 'opted_in_to_mailing_list', 'enabled_for_marketing_drip', 'email_type' ]\n",
    "others = df_classify.columns.difference(catagoric)\n",
    "df_dummies = pd.get_dummies(data=df_classify, columns=catagoric, drop_first=True)"
   ]
  },
  {
   "cell_type": "code",
   "execution_count": 18,
   "metadata": {
    "scrolled": false
   },
   "outputs": [
    {
     "name": "stdout",
     "output_type": "stream",
     "text": [
      "<class 'pandas.core.frame.DataFrame'>\n",
      "Int64Index: 12000 entries, 0 to 11999\n",
      "Data columns (total 10 columns):\n",
      "org_id                                12000 non-null int64\n",
      "invited_by_user_id                    12000 non-null float64\n",
      "Adopt                                 12000 non-null category\n",
      "creation_source_ORG_INVITE            12000 non-null uint8\n",
      "creation_source_PERSONAL_PROJECTS     12000 non-null uint8\n",
      "creation_source_SIGNUP                12000 non-null uint8\n",
      "creation_source_SIGNUP_GOOGLE_AUTH    12000 non-null uint8\n",
      "opted_in_to_mailing_list_1            12000 non-null uint8\n",
      "enabled_for_marketing_drip_1          12000 non-null uint8\n",
      "email_type_1                          12000 non-null uint8\n",
      "dtypes: category(1), float64(1), int64(1), uint8(7)\n",
      "memory usage: 375.1 KB\n"
     ]
    }
   ],
   "source": [
    "df_dummies['Adopt'] = df_dummies['Adopt'].astype('category')\n",
    "df_dummies.info()"
   ]
  },
  {
   "cell_type": "markdown",
   "metadata": {},
   "source": [
    "#### Feature selection"
   ]
  },
  {
   "cell_type": "code",
   "execution_count": 19,
   "metadata": {},
   "outputs": [
    {
     "name": "stdout",
     "output_type": "stream",
     "text": [
      "P-values from Chi-Squared Contingency Tests\n",
      "                            Attribute       P_value\n",
      "5        enabled_for_marketing_drip_1  7.845210e-01\n",
      "4                        email_type_1  7.071668e-01\n",
      "0          creation_source_ORG_INVITE  3.634461e-01\n",
      "6          opted_in_to_mailing_list_1  2.954454e-01\n",
      "2              creation_source_SIGNUP  1.130275e-01\n",
      "3  creation_source_SIGNUP_GOOGLE_AUTH  2.179899e-03\n",
      "1   creation_source_PERSONAL_PROJECTS  5.635016e-15\n",
      "info of df before deleting insignificant attributes:\n",
      "<class 'pandas.core.frame.DataFrame'>\n",
      "Int64Index: 12000 entries, 0 to 11999\n",
      "Data columns (total 10 columns):\n",
      "org_id                                12000 non-null int64\n",
      "invited_by_user_id                    12000 non-null float64\n",
      "Adopt                                 12000 non-null category\n",
      "creation_source_ORG_INVITE            12000 non-null category\n",
      "creation_source_PERSONAL_PROJECTS     12000 non-null category\n",
      "creation_source_SIGNUP                12000 non-null category\n",
      "creation_source_SIGNUP_GOOGLE_AUTH    12000 non-null category\n",
      "opted_in_to_mailing_list_1            12000 non-null category\n",
      "enabled_for_marketing_drip_1          12000 non-null category\n",
      "email_type_1                          12000 non-null category\n",
      "dtypes: category(8), float64(1), int64(1)\n",
      "memory usage: 375.8 KB\n",
      "None\n",
      "info of df after:\n",
      "<class 'pandas.core.frame.DataFrame'>\n",
      "Int64Index: 12000 entries, 0 to 11999\n",
      "Data columns (total 6 columns):\n",
      "org_id                                12000 non-null int64\n",
      "invited_by_user_id                    12000 non-null float64\n",
      "Adopt                                 12000 non-null category\n",
      "creation_source_PERSONAL_PROJECTS     12000 non-null category\n",
      "creation_source_SIGNUP                12000 non-null category\n",
      "creation_source_SIGNUP_GOOGLE_AUTH    12000 non-null category\n",
      "dtypes: category(4), float64(1), int64(1)\n",
      "memory usage: 328.5 KB\n",
      "None\n"
     ]
    }
   ],
   "source": [
    "# do chi-squared test on catagoric features\n",
    "p_vals_cate = pd.DataFrame(columns=['Attribute', 'P_value'])\n",
    "categoric = df_dummies.columns.difference(others)\n",
    "p_large = []\n",
    "\n",
    "\n",
    "for col in categoric:\n",
    "    df_dummies[col] = df_dummies[col].astype('category')\n",
    "    # Creating cross tabulated data for Chi-square test\n",
    "    counttable = pd.crosstab(df_dummies[col], df_dummies['Adopt'])\n",
    "    chi2, p, dof, ex = chi2_contingency(counttable, correction=False)\n",
    "    p_vals_cate = p_vals_cate.append({'Attribute':col, 'P_value':float(p)}, ignore_index=True)\n",
    "    if p>0.20:\n",
    "         p_large.append(col)\n",
    "    \n",
    "# Printing p-values of Chi-squared tests, sorted by p-values\n",
    "print('P-values from Chi-Squared Contingency Tests')\n",
    "print(p_vals_cate.sort_values('P_value', ascending=False).head(10))\n",
    "\n",
    "print('info of df before deleting insignificant attributes:')\n",
    "print(df_dummies.info())\n",
    "\n",
    "df_dummies_2  = df_dummies.drop(p_large, axis=1)\n",
    "\n",
    "print('info of df after:')\n",
    "print(df_dummies_2.info())"
   ]
  },
  {
   "cell_type": "code",
   "execution_count": 20,
   "metadata": {},
   "outputs": [
    {
     "name": "stdout",
     "output_type": "stream",
     "text": [
      "Raw Training Set Percent Retained: 10.8%\n",
      "Resampled Training Set Percent Retained: 50.0%\n"
     ]
    }
   ],
   "source": [
    "\n",
    "# Identify variables\n",
    "X = df_dummies_2.drop('Adopt', axis=1)\n",
    "y = df_dummies_2.Adopt\n",
    "\n",
    "# Splitting into train and test sets\n",
    "X_train, X_test, y_train, y_test = train_test_split(X, y, test_size=0.7, random_state=41)\n",
    "\n",
    "\n",
    "rus = RandomUnderSampler(random_state=41)\n",
    "X_rus, y_rus = rus.fit_sample(X=X_train, y=y_train)\n",
    "X_rus_test, y_rus_test = rus.fit_sample(X=X_test, y=y_test)\n",
    "\n",
    "print('Raw Training Set Percent Retained: {:.1f}%'.format(\n",
    "    len(y_train[y_train == 1])/len(y_train)*100))\n",
    "print('Resampled Training Set Percent Retained: {}%'.format(\n",
    "    len(y_rus[y_rus == 1])/len(y_rus)*100))"
   ]
  },
  {
   "cell_type": "markdown",
   "metadata": {},
   "source": [
    "#### Random Forest Classifier to predict whether the user is \"adopted\" or not \n",
    "\n",
    "Using grid search and cross validation on the train test data to optimize parameters of the random forest model. "
   ]
  },
  {
   "cell_type": "code",
   "execution_count": 21,
   "metadata": {},
   "outputs": [
    {
     "name": "stdout",
     "output_type": "stream",
     "text": [
      "Best Score: 0.554263565891\n",
      "Best Parameters: {'max_depth': 2, 'max_features': 1, 'n_estimators': 50}\n"
     ]
    }
   ],
   "source": [
    "#Random forest classifier parameter optimization:\n",
    "\n",
    "rf = RandomForestClassifier()\n",
    "param_grid = {\"n_estimators\": [20, 50, 100],\n",
    "              \"max_features\": [1, 3, 5],\n",
    "              \"max_depth\": [2, 5, 10]\n",
    "              }\n",
    "\n",
    "grid_rf = GridSearchCV(rf, param_grid=param_grid, cv=5)\n",
    "grid_rf.fit(X_rus, y_rus)\n",
    "\n",
    "# Printing the best score from the model\n",
    "print('Best Score:', grid_rf.best_score_)\n",
    "\n",
    "# Saving and printing the best parameters from the model\n",
    "best_params = grid_rf.best_params_\n",
    "print('Best Parameters:', best_params)"
   ]
  },
  {
   "cell_type": "code",
   "execution_count": 22,
   "metadata": {},
   "outputs": [
    {
     "name": "stdout",
     "output_type": "stream",
     "text": [
      "Cross Validation Accuracy Scores - Training Set: 0.55426(+/- 0.05)\n",
      "Cross Validation Accuracy Scores - Test Set: 0.89167(+/- 0.00)\n",
      "Confusion matrix on the test data:\n",
      "[[3136 4354]\n",
      " [ 267  643]]\n",
      "Classification report on the test data:\n",
      "             precision    recall  f1-score   support\n",
      "\n",
      "        0.0       0.92      0.42      0.58      7490\n",
      "        1.0       0.13      0.71      0.22       910\n",
      "\n",
      "avg / total       0.84      0.45      0.54      8400\n",
      "\n"
     ]
    }
   ],
   "source": [
    "#initiate a instance for classifier, use the best parameters found from the last step\n",
    "\n",
    "rf = RandomForestClassifier(**best_params)\n",
    "\n",
    "# Fit the classifier to the training data\n",
    "rf.fit(X_rus, y_rus)\n",
    "\n",
    "# Predict the labels of the test data: y_pred\n",
    "y_pred = rf.predict(X_test)\n",
    "\n",
    "scores_rf_train = cross_val_score(rf, X_rus, y_rus, cv=5)\n",
    "print('Cross Validation Accuracy Scores - Training Set: {:.5f}(+/- {:.2f})'.format(scores_rf_train.mean(), \n",
    "                                                                                 scores_rf_train.std()*2))\n",
    "scores_rf_test = cross_val_score(rf, X_test, y_test, cv=5)\n",
    "print('Cross Validation Accuracy Scores - Test Set: {:.5f}(+/- {:.2f})'.format(scores_rf_test.mean(), \n",
    "                                                                                 scores_rf_test.std()*2))\n",
    "\n",
    "# Generate the confusion matrix and classification report\n",
    "print('Confusion matrix on the test data:')\n",
    "print(confusion_matrix(y_test, y_pred))\n",
    "print('Classification report on the test data:')\n",
    "print(classification_report(y_test, y_pred))"
   ]
  },
  {
   "cell_type": "markdown",
   "metadata": {},
   "source": [
    "Now let's check which features are more important determining the target feature using the random forest classifier."
   ]
  },
  {
   "cell_type": "code",
   "execution_count": 23,
   "metadata": {},
   "outputs": [
    {
     "data": {
      "image/png": "[encoded data removed]",
      "text/plain": [
       "<matplotlib.figure.Figure at 0x114768ba8>"
      ]
     },
     "metadata": {},
     "output_type": "display_data"
    }
   ],
   "source": [
    "features = X.columns\n",
    "importances = rf.feature_importances_\n",
    "indices = np.argsort(importances)\n",
    "\n",
    "plt.title('Feature Importances')\n",
    "plt.barh(range(len(indices)), importances[indices], color='b', align='center')\n",
    "plt.yticks(range(len(indices)), [features[i] for i in indices])\n",
    "plt.xlabel('Relative Importance')\n",
    "plt.show()"
   ]
  },
  {
   "cell_type": "markdown",
   "metadata": {},
   "source": [
    "As shown above, the top three determining features are the organization (group of users) they belong to, wheter the creation source was personal prjects, and what user id was it invited by. These features are first features to consider if the company wants to improve user adopted rate."
   ]
  },
  {
   "cell_type": "code",
   "execution_count": 24,
   "metadata": {},
   "outputs": [
    {
     "name": "stdout",
     "output_type": "stream",
     "text": [
      "Best Score: 0.554263565891\n",
      "Best Parameters: {'C': 10, 'fit_intercept': True, 'solver': 'lbfgs'}\n",
      "Cross Validation Accuracy Scores - Training Set: 0.53485(+/- 0.05)\n",
      "Cross Validation Accuracy Scores - Test Set: 0.89167(+/- 0.00)\n",
      "Confusion matrix on the test data:\n",
      "[[1079 6411]\n",
      " [  88  822]]\n",
      "Classification report on the test data:\n",
      "             precision    recall  f1-score   support\n",
      "\n",
      "        0.0       0.92      0.14      0.25      7490\n",
      "        1.0       0.11      0.90      0.20       910\n",
      "\n",
      "avg / total       0.84      0.23      0.24      8400\n",
      "\n"
     ]
    }
   ],
   "source": [
    "# try logistic regression classifier\n",
    "clf = LogisticRegression()\n",
    "parameters = [{'C':[0.1,1,10,100], 'solver':['lbfgs'], 'fit_intercept':[True]},\n",
    "              {'C':[0.1,1,10,100], 'solver':['liblinear'], 'penalty':['l1', 'l2'], 'fit_intercept':[True]}]\n",
    "# Instantiating and fitting model through grid search\n",
    "grid_logR = GridSearchCV(clf, param_grid=parameters)\n",
    "grid_logR.fit(X_rus, y_rus)\n",
    "\n",
    "# Printing the best score from the model\n",
    "print('Best Score:', grid_logR.best_score_)\n",
    "\n",
    "# Saving and printing the best parameters from the model\n",
    "best_params = grid_logR.best_params_\n",
    "print('Best Parameters:', best_params)\n",
    "\n",
    "#initiate a instance for classifier using the optimized parameters\n",
    "clf = LogisticRegression(**best_params)\n",
    "\n",
    "# Fit the classifier to the training data\n",
    "clf.fit(X_rus, y_rus)\n",
    "\n",
    "# Predict the labels of the test data: y_pred\n",
    "y_pred = clf.predict(X_test)\n",
    "\n",
    "scores_LR_train = cross_val_score(clf, X_rus, y_rus, cv=5)\n",
    "print('Cross Validation Accuracy Scores - Training Set: {:.5f}(+/- {:.2f})'.format(scores_LR_train.mean(), \n",
    "                                                                                 scores_LR_train.std()*2))\n",
    "scores_LR_test = cross_val_score(clf, X_test, y_test, cv=5)\n",
    "print('Cross Validation Accuracy Scores - Test Set: {:.5f}(+/- {:.2f})'.format(scores_LR_test.mean(), \n",
    "                                                                            scores_LR_test.std()*2))\n",
    "\n",
    "\n",
    "# Generate the confusion matrix and classification report\n",
    "print('Confusion matrix on the test data:')\n",
    "print(confusion_matrix(y_test, y_pred))\n",
    "print('Classification report on the test data:')\n",
    "print(classification_report(y_test, y_pred))"
   ]
  },
  {
   "cell_type": "code",
   "execution_count": null,
   "metadata": {
    "collapsed": true
   },
   "outputs": [],
   "source": []
  }
 ],
 "metadata": {
  "kernelspec": {
   "display_name": "Python 3",
   "language": "python",
   "name": "python3"
  },
  "language_info": {
   "codemirror_mode": {
    "name": "ipython",
    "version": 3
   },
   "file_extension": ".py",
   "mimetype": "text/x-python",
   "name": "python",
   "nbconvert_exporter": "python",
   "pygments_lexer": "ipython3",
   "version": "3.6.1"
  }
 },
 "nbformat": 4,
 "nbformat_minor": 2
}
